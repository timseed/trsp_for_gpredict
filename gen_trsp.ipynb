{
 "cells": [
  {
   "cell_type": "code",
   "execution_count": 207,
   "metadata": {},
   "outputs": [],
   "source": [
    "import pandas as pd\n",
    "import numpy as np\n",
    "import requests\n",
    "import json"
   ]
  },
  {
   "cell_type": "markdown",
   "metadata": {},
   "source": [
    "# Create 3 Dataframes from the excellent  api from satnogs\n",
    "\n",
    "Then combines Satelites with Transmitters..."
   ]
  },
  {
   "cell_type": "code",
   "execution_count": 213,
   "metadata": {},
   "outputs": [],
   "source": [
    "data_modes=requests.get('https://db.satnogs.org/api/modes')\n",
    "df_modes = pd.DataFrame.from_records(json.loads(data_modes.content))\n",
    "\n",
    "data_satellites=requests.get('https://db.satnogs.org/api/satellites')\n",
    "df_satellites = pd.DataFrame.from_records(json.loads(data_satellites.content))\n",
    "\n",
    "data_transmitters=requests.get('https://db.satnogs.org/api/transmitters')\n",
    "df_transmitters = pd.DataFrame.from_records(json.loads(data_transmitters.content))\n",
    "\n",
    "df = df_transmitters.merge(df_satellites,on=['norad_cat_id'],how='left')"
   ]
  },
  {
   "cell_type": "markdown",
   "metadata": {},
   "source": [
    "# Use the norad_cat_id as the index\n",
    "\n",
    "We need to process per satellite, so the easiest way is to use the norad id, as an index key."
   ]
  },
  {
   "cell_type": "code",
   "execution_count": 214,
   "metadata": {},
   "outputs": [],
   "source": [
    "df.set_index(['norad_cat_id'],inplace=True)"
   ]
  },
  {
   "cell_type": "markdown",
   "metadata": {},
   "source": [
    "# Remove the non alive ... records"
   ]
  },
  {
   "cell_type": "code",
   "execution_count": 216,
   "metadata": {},
   "outputs": [],
   "source": [
    "# It is really this simple\n",
    "df=df[df.alive == 1]\n",
    "\n",
    "\n",
    "def f_check(f):\n",
    "    \"\"\"\n",
    "    Remove the NaN values and check the data.\n",
    "    :param f frequency\n",
    "    returns: int value of 0 or the int value of the specified frequency in Hertz\n",
    "    \"\"\"\n",
    "    try:\n",
    "        if f>1:\n",
    "            return int(f)\n",
    "        else:\n",
    "            return int(0)\n",
    "    except:\n",
    "        return int(0)\n",
    "    \n",
    "df['downlink_low_mhz'] =df.downlink_low.apply(lambda x: f_check(x))\n",
    "df['downlink_high_mhz']=df.downlink_high.apply(lambda x: f_check(x))\n",
    "df['uplink_low_mhz']   =df.uplink_low.apply(lambda x: f_check(x))\n",
    "df['uplink_high_mhz']  =df.uplink_high.apply(lambda x: f_check(x))"
   ]
  },
  {
   "cell_type": "markdown",
   "metadata": {},
   "source": [
    "# Sample trsp files\n",
    "\n",
    "This is what we are trying to produce.\n",
    "If a satellite had 6 possible modes - then all of these items would be in the <norad_cat_id>.mod file.\n",
    "\n",
    "\n",
    "```\n",
    "[Mode V Digitalker (Voices Messages and Telemetry)]\n",
    "DOWN_LOW=145950000\n",
    "MODE=FM\n",
    "```\n",
    "\n",
    "```\n",
    "[Mode V Imaging (Robot 36 SSTV from onboard cameras)]\n",
    "DOWN_LOW=145950000\n",
    "MODE=SSTV in FM carrier\n",
    "```\n",
    "\n",
    "```\n",
    "[Mode V Telemetry (1000 baud (400 baud backup))]\n",
    "DOWN_LOW=145920000\n",
    "MODE=BPSK 1000 bps\n",
    "```\n",
    "\n",
    "```\n",
    "[Mode U/V (B) Linear Transponder]\n",
    "UP_LOW=435742000\n",
    "UP_HIGH=435758000\n",
    "DOWN_LOW=145922000\n",
    "DOWN_HIGH=145938000\n",
    "INVERT=true\n",
    "```\n",
    "\n",
    "```\n",
    "[Mode V TLM Beacon (CW-2, BPSK-1000)]\n",
    "DOWN_LOW=145919000\n",
    "MODE=CW\n",
    "```\n",
    "\n",
    "```\n",
    "[Mode V TLM Beacon (CW-1, BPSK-400)]\n",
    "DOWN_LOW=145939000\n",
    "MODE=CW\n",
    "```"
   ]
  },
  {
   "cell_type": "code",
   "execution_count": 162,
   "metadata": {},
   "outputs": [],
   "source": [
    "pre_idx=-1\n",
    "of=None\n",
    "for index, record in df.iterrows():\n",
    "    if index != pre_idx:\n",
    "        if of:\n",
    "            of.close()    \n",
    "        of=open(f\"{index}.trsp\",\"wt\")\n",
    "        pre_idx=index\n",
    "    if record['mode'] in ['CW','FM','FMN','USB']:\n",
    "        #Mode more simple\n",
    "        title=f\"[Mode {record['mode']} {record['description']}]\"\n",
    "    else:\n",
    "        #Mode Complex Modes\n",
    "        title=f\"[Mode {record['mode']} (Baud {record['baud']} {record['description']})]\"\n",
    "    of.write(f\"{title}\\n\")\n",
    "    \n",
    "    # Invert Rule\n",
    "    if record['invert']:\n",
    "        of.write(f\"INVERT=true\\n\")\n",
    "        \n",
    "    # Baud Rule\n",
    "    if record['baud']>0.0:\n",
    "        of.write(f\"MODE={record['mode']} {record['baud']}\\n\")\n",
    "    else:\n",
    "        of.write(f\"MODE={record['mode']}\\n\")\n",
    "    \n",
    "    #Downlink Rule\n",
    "    if record['downlink_high_mhz'] == 0:\n",
    "        #print(f\"Uplink is {record['downlink_high_mhz']} \")\n",
    "        of.write(f\"DOWN_LOW={record['downlink_low_mhz']}\\n\")\n",
    "    else:\n",
    "        of.write(f\"DOWN_HIGH={record['downlink_high_mhz']}\\n\")                            \n",
    "        of.write(f\"DOWN_LOW={record['downlink_low_mhz']}\\n\")  \n",
    "\n",
    "    #Uplink Rule\n",
    "    if record['uplink_high_mhz'] != 0:\n",
    "        of.write(f\"UP_LOW={record['uplink_high_mhz']}\\n\")\n",
    "    if record['uplink_low_mhz'] != 0:\n",
    "        of.write(f\"UP_LOW={record['uplink_low_mhz']}\\n\") \n",
    "                 \n",
    "    of.write(\"\\n\\n\")"
   ]
  },
  {
   "cell_type": "markdown",
   "metadata": {},
   "source": [
    "# Trsp done\n",
    "\n",
    "We should now have the trsp files... they need to be moved to the gprdict dirctory. \n",
    "\n",
    "To do this please do a \n",
    "\n",
    "   cp *.trsp ~/.config/Gpredict/trsp/\n",
    "\n",
    "And we should be good to go.\n",
    "\n",
    "\n",
    "### Modules for GPredict \n",
    "\n",
    "This list of Satelites is too much for me to wade through ... So I need to break them down by Mode... \n",
    "\n",
    "\n",
    "This is what GPredict calls a module... \n",
    "```\n",
    "[GLOBAL]\n",
    "QTHFILE=Arenas.qth\n",
    "SATELLITES=40905;41460\n",
    "```\n",
    "\n",
    "You should change the QTHFILE= to match with what your QTH Location name is set as. The default file suffix is *.qth*. You can see this in **~/.config/Gpredict/** the home locations are by default set there.\n"
   ]
  },
  {
   "cell_type": "code",
   "execution_count": 217,
   "metadata": {},
   "outputs": [],
   "source": [
    "MyQth = \"Areanas.qth\"   \n",
    "for mode in df['mode'].unique():\n",
    "        norad_ids=[]\n",
    "        for index,rec in df.iterrows():\n",
    "              if rec['mode']==mode:\n",
    "                  norad_ids.append(index)\n",
    "        if norad_ids != [] and mode:\n",
    "             file_name=mode[0].upper()+mode[1:].lower()\n",
    "             with open(f\"{file_name}.mod\",\"wt\") as mod_file:\n",
    "                # We need this header\n",
    "                # You will need a Qth of the same name ... or alter the code/gpredict\n",
    "                mod_file.write(\"[GLOBAL]\\nQTHFILE=Arenas.qth\\nSATELLITES=\")\n",
    "                norad_ids = list(set(norad_ids))\n",
    "                norad_ids.sort() #They may as well be Numeric in order\n",
    "                sat_line=';'.join([str(i) for i in norad_ids])\n",
    "                mod_file.write(f\"{sat_line}\\n\")\n"
   ]
  },
  {
   "cell_type": "markdown",
   "metadata": {},
   "source": [
    "### mov Files\n",
    "\n",
    "\n",
    "At this point you have created some MOV files, these also need to be copied into your GPredict directory.\n",
    "\n",
    "    cp *.mov ~/.config/GPredict/modules\n",
    "    \n",
    "You should now be able to open these in GPredict - grouped per transmission mode, and will full transponder data."
   ]
  }
 ],
 "metadata": {
  "kernelspec": {
   "display_name": "py37",
   "language": "python",
   "name": "py37"
  },
  "language_info": {
   "codemirror_mode": {
    "name": "ipython",
    "version": 3
   },
   "file_extension": ".py",
   "mimetype": "text/x-python",
   "name": "python",
   "nbconvert_exporter": "python",
   "pygments_lexer": "ipython3",
   "version": "3.7.3"
  }
 },
 "nbformat": 4,
 "nbformat_minor": 2
}
